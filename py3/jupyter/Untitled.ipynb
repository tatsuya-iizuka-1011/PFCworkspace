{
 "cells": [
  {
   "cell_type": "code",
   "execution_count": 1,
   "metadata": {},
   "outputs": [
    {
     "name": "stderr",
     "output_type": "stream",
     "text": [
      "/home/iizuka/anaconda3/lib/python3.6/site-packages/matplotlib/font_manager.py:280: UserWarning: Matplotlib is building the font cache using fc-list. This may take a moment.\n",
      "  'Matplotlib is building the font cache using fc-list. '\n"
     ]
    },
    {
     "data": {
      "text/plain": [
       "<matplotlib.text.Text at 0x7fe572bc6da0>"
      ]
     },
     "execution_count": 1,
     "metadata": {},
     "output_type": "execute_result"
    },
    {
     "data": {
      "image/png": "[encoded data removed]",
      "text/plain": [
       "<matplotlib.figure.Figure at 0x7fe572e13b38>"
      ]
     },
     "metadata": {},
     "output_type": "display_data"
    }
   ],
   "source": [
    "%matplotlib inline\n",
    "import matplotlib.pyplot as plt\n",
    "plt.plot([1,2,3,4])\n",
    "plt.ylabel('some numbers')\n"
   ]
  },
  {
   "cell_type": "code",
   "execution_count": 2,
   "metadata": {},
   "outputs": [
    {
     "ename": "ModuleNotFoundError",
     "evalue": "No module named 'couchdb'",
     "output_type": "error",
     "traceback": [
      "\u001b[0;31m---------------------------------------------------------------------------\u001b[0m",
      "\u001b[0;31mModuleNotFoundError\u001b[0m                       Traceback (most recent call last)",
      "\u001b[0;32m<ipython-input-2-41d7b473f656>\u001b[0m in \u001b[0;36m<module>\u001b[0;34m()\u001b[0m\n\u001b[0;32m----> 1\u001b[0;31m \u001b[0;32mimport\u001b[0m \u001b[0mcouchdb\u001b[0m\u001b[0;34m\u001b[0m\u001b[0m\n\u001b[0m\u001b[1;32m      2\u001b[0m \u001b[0mserver\u001b[0m \u001b[0;34m=\u001b[0m \u001b[0mcouchdb\u001b[0m\u001b[0;34m.\u001b[0m\u001b[0mServer\u001b[0m\u001b[0;34m(\u001b[0m\u001b[0;34m'localhost:5984/'\u001b[0m\u001b[0;34m)\u001b[0m\u001b[0;34m\u001b[0m\u001b[0m\n\u001b[1;32m      3\u001b[0m \u001b[0mdb\u001b[0m \u001b[0;34m=\u001b[0m \u001b[0mserver\u001b[0m\u001b[0;34m[\u001b[0m\u001b[0;34m'environmental_data_point'\u001b[0m\u001b[0;34m]\u001b[0m\u001b[0;34m\u001b[0m\u001b[0m\n\u001b[1;32m      4\u001b[0m \u001b[0mlen\u001b[0m\u001b[0;34m(\u001b[0m\u001b[0mdb\u001b[0m\u001b[0;34m)\u001b[0m\u001b[0;34m\u001b[0m\u001b[0m\n",
      "\u001b[0;31mModuleNotFoundError\u001b[0m: No module named 'couchdb'"
     ]
    }
   ],
   "source": [
    "import couchdb\n",
    "server = couchdb.Server('localhost:5984/')\n",
    "db = server['environmental_data_point']\n",
    "len(db)"
   ]
  },
  {
   "cell_type": "code",
   "execution_count": null,
   "metadata": {
    "collapsed": true
   },
   "outputs": [],
   "source": [
    "%matplotlib inline\n",
    "import couchdb\n",
    "import datetime\n",
    "import matplotlib.pyplot as plt\n",
    "import matplotlib\n",
    "import matplotlib.pyplot as plt\n",
    "from matplotlib.lines import Line2D\n",
    "\n",
    "def convertToDateTimeObj(unixTime):\n",
    "        return datetime.datetime.fromtimestamp(\n",
    "            unixTime\n",
    "        )\n",
    "'''\n",
    "def connectDB():\n",
    "    server = couchdb.Server('http://foodcomputer-db.akg.t.u-tokyo.ac.jp:5984/')\n",
    "    return  server['environmental_data_point']\n",
    "\n",
    "'''\n",
    "\n",
    "def getSensorDataList(env_name,db,limit=1000):\n",
    "    map_fun = '''function(doc) {{\n",
    "        if (doc.variable == '{}')\n",
    "            emit(doc.timestamp, doc.value);\n",
    "    }}'''.format(env_name)\n",
    "    \n",
    "    row_list = db.query(map_fun, descending=True, limit=limit)\n",
    "    value_list = [row.value for row in row_list]\n",
    "    date_list = [convertToDateTimeObj(row.key) for row in row_list]\n",
    "    \n",
    "    return {\"date_list\":date_list, \"value_list\":value_list}\n",
    "\n",
    "def plotSensorData(env_name,limit):\n",
    "    server = couchdb.Server('http://foodcomputer-db.akg.t.u-tokyo.ac.jp:5984/')\n",
    "    db = server['environmental_data_point']\n",
    "    date_value = getSensorDataList(env_name,db, limit)\n",
    "    #date_list = matplotlib.dates.date2num(date_value['date_list'])\n",
    "    date_list = date_value['date_list']\n",
    "    value_list = date_value['value_list']\n",
    "\n",
    "    plt.plot(date_list,value_list,linestyle='None',marker='.')\n",
    "    plt.gcf().autofmt_xdate()\n",
    "    #plt.ylim(0,8)\n",
    "    plt.show()\n",
    "    return (date_list, value_list)\n",
    "\n",
    "#def plotSensorData(env_name):    \n",
    "\n"
   ]
  }
 ],
 "metadata": {
  "kernelspec": {
   "display_name": "Python 3",
   "language": "python",
   "name": "python3"
  },
  "language_info": {
   "codemirror_mode": {
    "name": "ipython",
    "version": 3
   },
   "file_extension": ".py",
   "mimetype": "text/x-python",
   "name": "python",
   "nbconvert_exporter": "python",
   "pygments_lexer": "ipython3",
   "version": "3.6.2"
  }
 },
 "nbformat": 4,
 "nbformat_minor": 2
}
