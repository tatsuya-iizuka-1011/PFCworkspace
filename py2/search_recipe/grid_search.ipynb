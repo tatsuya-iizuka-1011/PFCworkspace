{
 "cells": [
  {
   "cell_type": "code",
   "execution_count": 44,
   "metadata": {
    "collapsed": true
   },
   "outputs": [],
   "source": [
    "class RecipeVector():\n",
    "    def __init__(self, recipe_vector):\n",
    "        self.recipe_vector = recipe_vector\n",
    "        self.recipe_env_variables = set((\n",
    "            'light_intensity_white', 'air_temperature', 'water_potential_hydrogen', \n",
    "            'air_flush', 'nutrient_flora_duo_a', 'nutrient_flora_duo_b'))\n",
    "        self.recipe_time_variables = set(('cycle_duration', 'day_duration'))\n",
    "        self.raw_value_envs =  set(('light_intensity_white', 'air_temperature', 'water_potential_hydrogen'))\n",
    "        self.interval_value_envs = {'air_flush':0.25}\n",
    "        self.nutrients_rate = {'nutrient_flora_duo_a':400, 'nutrient_flora_duo_b':400}\n",
    "        self.prop = {}\n",
    "        self.prop['start'] = 'start_time'\n",
    "        self.prop['end'] = 'end_time'\n",
    "        self.prop['value'] = 'value'\n",
    "        \n",
    "        if not self.validate_vector():\n",
    "            print('recipe_vector is not validated')\n",
    "            return None\n",
    "\n",
    "    def validate_vector(self):\n",
    "        for env_var in self.recipe_env_variables:\n",
    "            if env_var in self.recipe_vector and type(self.recipe_vector[env_var]) == list:\n",
    "                list_length = 2\n",
    "                if env_var == 'nutrient_flora_duo_a' or env_var == 'nutrient_flora_duo_b':\n",
    "                    list_length = 1\n",
    "                if len(self.recipe_vector[env_var]) != list_length:\n",
    "                    return False\n",
    "            else:\n",
    "                return False\n",
    "        return True\n",
    "    \n",
    "    def make_step_obj(self):\n",
    "        step_obj = {}\n",
    "        a = self.recipe_vector\n",
    "        start, end, value = (self.prop['start'], self.prop['end'], self.prop['value'] )\n",
    "\n",
    "        for env_variable in self.raw_value_envs:\n",
    "            step_obj[env_variable] = [\n",
    "                {start:0, end:a['day_duration'], value:a[env_variable][0]},\n",
    "                {start:a['day_duration'], end:a['cycle_duration'], value:a[env_variable][1]}\n",
    "            ]\n",
    "        for nutirent, doser_rate in self.nutrients_rate.iteritems():\n",
    "            doser_duration = a[nutirent][0] / doser_rate\n",
    "            step_obj[nutirent] = [\n",
    "                {start:0, end:doser_duration, value:doser_rate},\n",
    "                {start:doser_duration, end:a['cycle_duration'], value:0}\n",
    "            ]\n",
    "        for env_variable, operating_time in self.interval_value_envs.iteritems():\n",
    "            step_obj[env_variable] = []\n",
    "            for i in range(2):\n",
    "                if operating_time > a[env_variable][i]:\n",
    "                    print('value of interval_value_envs must be more than operating_time')\n",
    "                    return None\n",
    "                start_time, end_time, duration = (-operating_time, 0, a['day_duration'])\n",
    "                if i ==1:\n",
    "                    start_time += a['day_duration']\n",
    "                    end_time += a['day_duration']\n",
    "                    duration = a['cycle_duration'] - a['day_duration']\n",
    "                num_cycle_day = int(duration // a[env_variable][i])\n",
    "                for j in range(num_cycle_day):\n",
    "                    start_time += a[env_variable][i]\n",
    "                    end_time += a[env_variable][i]\n",
    "                    step_obj[env_variable] .append({start:start_time, end:end_time, value:1})            \n",
    "        return step_obj\n",
    "    "
   ]
  },
  {
   "cell_type": "code",
   "execution_count": 45,
   "metadata": {},
   "outputs": [
    {
     "data": {
      "text/plain": [
       "{'air_flush': [{'end_time': 4, 'start_time': 3.75, 'value': 1},\n",
       "  {'end_time': 8, 'start_time': 7.75, 'value': 1},\n",
       "  {'end_time': 12, 'start_time': 11.75, 'value': 1},\n",
       "  {'end_time': 16, 'start_time': 15.75, 'value': 1},\n",
       "  {'end_time': 23, 'start_time': 22.75, 'value': 1}],\n",
       " 'air_temperature': [{'end_time': 18, 'start_time': 0, 'value': 26},\n",
       "  {'end_time': 24, 'start_time': 18, 'value': 23}],\n",
       " 'light_intensity_white': [{'end_time': 18, 'start_time': 0, 'value': 1},\n",
       "  {'end_time': 24, 'start_time': 18, 'value': 0}],\n",
       " 'nutrient_flora_duo_a': [{'end_time': 0.025, 'start_time': 0, 'value': 400},\n",
       "  {'end_time': 24, 'start_time': 0.025, 'value': 0}],\n",
       " 'nutrient_flora_duo_b': [{'end_time': 0.025, 'start_time': 0, 'value': 400},\n",
       "  {'end_time': 24, 'start_time': 0.025, 'value': 0}],\n",
       " 'water_potential_hydrogen': [{'end_time': 18, 'start_time': 0, 'value': 6.0},\n",
       "  {'end_time': 24, 'start_time': 18, 'value': 6.0}]}"
      ]
     },
     "execution_count": 45,
     "metadata": {},
     "output_type": "execute_result"
    }
   ],
   "source": [
    "a = {\n",
    "    'cycle_duration':24,\n",
    "    'day_duration':18,\n",
    "    'light_intensity_white':[1,0],\n",
    "    'air_temperature':[26, 23],\n",
    "    'air_flush':[4, 5],\n",
    "    'water_potential_hydrogen':[6.0, 6.0],\n",
    "    'nutrient_flora_duo_a':[10],\n",
    "    'nutrient_flora_duo_b':[10]\n",
    "}\n",
    "rv = RecipeVector(a)\n",
    "rv.make_step_obj()"
   ]
  },
  {
   "cell_type": "code",
   "execution_count": 1,
   "metadata": {
    "collapsed": true
   },
   "outputs": [],
   "source": [
    "a = {\n",
    "    'cycle_duration':24,\n",
    "    'day_duration':18,\n",
    "    'light_intensity_white':[1,0],\n",
    "    'air_temperature':[26, 23],\n",
    "    'air_flush':[4, 5],\n",
    "    'water_potential_hydrogen':[6.0, 6.0],\n",
    "    'nutrient_flora_duo_a':[10],\n",
    "    'nutrient_flora_duo_b':[10]\n",
    "}\n",
    "obj = {\n",
    "    'time_units':'hours',\n",
    "    'a_vector':a\n",
    "}"
   ]
  },
  {
   "cell_type": "code",
   "execution_count": 23,
   "metadata": {},
   "outputs": [],
   "source": [
    "from __future__ import division\n",
    "\n",
    "raw_value_envs =  set(('light_intensity_white', 'air_temperature', 'water_potential_hydrogen'))\n",
    "interval_value_envs = {'air_flush':0.25}\n",
    "nutrients_rate = {'nutrient_flora_duo_a':400, 'nutrient_flora_duo_b':400}\n",
    "\n",
    "start = 'start_time'\n",
    "end = 'end_time'\n",
    "value = 'value'\n",
    "\n",
    "def make_step_obj(obj):\n",
    "    a = obj['a_vector']\n",
    "    step_obj = {}\n",
    "    for env_variable in raw_value_envs:\n",
    "        step_obj[env_variable] = [\n",
    "            {start:0, end:a['day_duration'], value:a[env_variable][0]},\n",
    "            {start:a['day_duration'], end:a['cycle_duration'], value:a[env_variable][1]}\n",
    "        ]\n",
    "    for nutirent, doser_rate in nutrients_rate.iteritems():\n",
    "        doser_duration = a[nutirent][0] / doser_rate\n",
    "        step_obj[nutirent] = [\n",
    "            {start:0, end:doser_duration, value:doser_rate},\n",
    "            {start:doser_duration, end:a['cycle_duration'], value:0}\n",
    "        ]\n",
    "        print(nutirent)\n",
    "        print(step_obj[nutirent] )\n",
    "    for env_variable, operating_time in interval_value_envs.iteritems():\n",
    "        step_obj[env_variable] = []\n",
    "        for i in range(2):\n",
    "            if operating_time > a[env_variable][i]:\n",
    "                print('value of interval_value_envs must be more than operating_time')\n",
    "                return None\n",
    "            start_time, end_time, duration = (-operating_time, 0, a['day_duration'])\n",
    "            if i ==1:\n",
    "                start_time += a['day_duration']\n",
    "                end_time += a['day_duration']\n",
    "                duration = a['cycle_duration'] - a['day_duration']\n",
    "            num_cycle_day = int(duration // a[env_variable][i])\n",
    "            for j in range(num_cycle_day):\n",
    "                start_time += a[env_variable][i]\n",
    "                end_time += a[env_variable][i]\n",
    "                step_obj[env_variable] .append({start:start_time, end:end_time, value:1})            \n",
    "    return step_obj"
   ]
  },
  {
   "cell_type": "code",
   "execution_count": 24,
   "metadata": {},
   "outputs": [
    {
     "name": "stdout",
     "output_type": "stream",
     "text": [
      "nutrient_flora_duo_b\n",
      "[{'start_time': 0, 'end_time': 0.025, 'value': 400}, {'start_time': 0.025, 'end_time': 24, 'value': 0}]\n",
      "nutrient_flora_duo_a\n",
      "[{'start_time': 0, 'end_time': 0.025, 'value': 400}, {'start_time': 0.025, 'end_time': 24, 'value': 0}]\n"
     ]
    }
   ],
   "source": [
    "step_obj = make_step_obj(obj)"
   ]
  },
  {
   "cell_type": "code",
   "execution_count": 25,
   "metadata": {},
   "outputs": [
    {
     "data": {
      "text/plain": [
       "{'air_flush': [{'end_time': 4, 'start_time': 3.75, 'value': 1},\n",
       "  {'end_time': 8, 'start_time': 7.75, 'value': 1},\n",
       "  {'end_time': 12, 'start_time': 11.75, 'value': 1},\n",
       "  {'end_time': 16, 'start_time': 15.75, 'value': 1},\n",
       "  {'end_time': 23, 'start_time': 22.75, 'value': 1}],\n",
       " 'air_temperature': [{'end_time': 18, 'start_time': 0, 'value': 26},\n",
       "  {'end_time': 24, 'start_time': 18, 'value': 23}],\n",
       " 'light_intensity_white': [{'end_time': 18, 'start_time': 0, 'value': 1},\n",
       "  {'end_time': 24, 'start_time': 18, 'value': 0}],\n",
       " 'nutrient_flora_duo_a': [{'end_time': 0.025, 'start_time': 0, 'value': 400},\n",
       "  {'end_time': 24, 'start_time': 0.025, 'value': 0}],\n",
       " 'nutrient_flora_duo_b': [{'end_time': 0.025, 'start_time': 0, 'value': 400},\n",
       "  {'end_time': 24, 'start_time': 0.025, 'value': 0}],\n",
       " 'water_potential_hydrogen': [{'end_time': 18, 'start_time': 0, 'value': 6.0},\n",
       "  {'end_time': 24, 'start_time': 18, 'value': 6.0}]}"
      ]
     },
     "execution_count": 25,
     "metadata": {},
     "output_type": "execute_result"
    }
   ],
   "source": [
    "step_obj"
   ]
  }
 ],
 "metadata": {
  "kernelspec": {
   "display_name": "Python 2",
   "language": "python",
   "name": "python2"
  },
  "language_info": {
   "codemirror_mode": {
    "name": "ipython",
    "version": 2
   },
   "file_extension": ".py",
   "mimetype": "text/x-python",
   "name": "python",
   "nbconvert_exporter": "python",
   "pygments_lexer": "ipython2",
   "version": "2.7.14"
  }
 },
 "nbformat": 4,
 "nbformat_minor": 2
}
