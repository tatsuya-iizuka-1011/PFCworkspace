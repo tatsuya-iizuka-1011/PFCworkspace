{
 "cells": [
  {
   "cell_type": "markdown",
   "metadata": {},
   "source": [
    "# visiualising actuator working"
   ]
  },
  {
   "cell_type": "code",
   "execution_count": 1,
   "metadata": {
    "collapsed": false
   },
   "outputs": [
    {
     "data": {
      "text/plain": [
       "589"
      ]
     },
     "execution_count": 1,
     "metadata": {},
     "output_type": "execute_result"
    }
   ],
   "source": [
    "import couchdb\n",
    "server = couchdb.Server('http://foodcomputer.akg.t.u-tokyo.ac.jp:5984/')\n",
    "db = server['actuator_data_point']\n",
    "len(db)"
   ]
  },
  {
   "cell_type": "code",
   "execution_count": 2,
   "metadata": {
    "collapsed": true
   },
   "outputs": [],
   "source": [
    "%matplotlib inline\n",
    "import couchdb\n",
    "import datetime\n",
    "import matplotlib.pyplot as plt\n",
    "from matplotlib.lines import Line2D\n",
    "\n",
    "def convertToDateTimeObj(unixTime):\n",
    "        return datetime.datetime.fromtimestamp(\n",
    "            unixTime\n",
    "        )\n",
    "'''\n",
    "def connectDB():\n",
    "    server = couchdb.Server('http://foodcomputer.akg.t.u-tokyo.ac.jp:5984/')\n",
    "    return  server['environmental_data_point']\n",
    "\n",
    "'''\n",
    "\n",
    "def getActuatorDataList(act_name,db,limit=1000):\n",
    "    map_fun = '''function(doc) {{\n",
    "        if (doc.variable == '{}')\n",
    "            emit(doc.timestamp, doc.value);\n",
    "    }}'''.format(act_name)\n",
    "    \n",
    "    row_list = db.query(map_fun, descending=True, limit=limit)\n",
    "    value_list = [row.value for row in row_list]\n",
    "    date_list = [convertToDateTimeObj(row.key) for row in row_list]\n",
    "    \n",
    "    return {\"date_list\":date_list, \"value_list\":value_list}\n",
    "\n",
    "def plotActuatorData(act_name,limit):\n",
    "    server = couchdb.Server('http://foodcomputer.akg.t.u-tokyo.ac.jp:5984/')\n",
    "    db = server['actuator_data_point']\n",
    "    date_value = getActuatorDataList(act_name,db, limit)\n",
    "    #date_list = matplotlib.dates.date2num(date_value['date_list'])\n",
    "    date_list = date_value['date_list']\n",
    "    value_list = date_value['value_list']\n",
    "\n",
    "    plt.plot(date_list,value_list,linestyle='None',marker='.')\n",
    "    plt.gcf().autofmt_xdate()\n",
    "    plt.show()\n",
    "\n",
    "\n",
    "\n"
   ]
  },
  {
   "cell_type": "code",
   "execution_count": 7,
   "metadata": {
    "collapsed": false
   },
   "outputs": [
    {
     "data": {
      "image/png": "[encoded data removed]",
      "text/plain": [
       "<matplotlib.figure.Figure at 0x106be8470>"
      ]
     },
     "metadata": {},
     "output_type": "display_data"
    }
   ],
   "source": [
    "plotActuatorData('light_intensity_white',30)"
   ]
  },
  {
   "cell_type": "code",
   "execution_count": null,
   "metadata": {
    "collapsed": true
   },
   "outputs": [],
   "source": []
  }
 ],
 "metadata": {
  "kernelspec": {
   "display_name": "Python 3",
   "language": "python",
   "name": "python3"
  },
  "language_info": {
   "codemirror_mode": {
    "name": "ipython",
    "version": 3
   },
   "file_extension": ".py",
   "mimetype": "text/x-python",
   "name": "python",
   "nbconvert_exporter": "python",
   "pygments_lexer": "ipython3",
   "version": "3.5.1"
  }
 },
 "nbformat": 4,
 "nbformat_minor": 0
}
