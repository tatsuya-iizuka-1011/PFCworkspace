{
 "cells": [
  {
   "cell_type": "code",
   "execution_count": 3,
   "metadata": {
    "collapsed": true
   },
   "outputs": [],
   "source": [
    "import sys, traceback, os\n",
    "import argparse\n",
    "import string\n",
    "import cv2\n",
    "import numpy as np\n",
    "LIBRARY_PATH = '/home/iizuka/workspace/py2/lib'\n",
    "PLANTCV_PATH = '/home/iizuka/workspace/py2/lib/plantcv'\n",
    "sys.path.append(LIBRARY_PATH)\n",
    "sys.path.append(PLANTCV_PATH)\n",
    "import plantcv as pcv\n",
    "from database_manipulator import EnvironmentalDatabaseManipulator\n",
    "from matplotlib import pyplot as plt\n",
    "%matplotlib inline\n",
    "#plt.style.use('dark_background')\n",
    "plt.style.use('ggplot')\n",
    "\n",
    "\n",
    "\n",
    "SHAPES_PROPERTIES = (\n",
    "    'name',\n",
    "    'object_area',\n",
    "     'convex-hull_area',\n",
    "     'solidity',\n",
    "     'object_perimeter_length',\n",
    "     'object_width_(extent_x)',\n",
    "     'object_height_(extent_y)',\n",
    "     'longest_axis',\n",
    "     'center_of_mass-x',\n",
    "     'center_of_mass-y',\n",
    "     'hull_vertices',\n",
    "     'in_bounds',\n",
    "     'object_bounding_ellipse_center-x',\n",
    "     'object_bounding_ellipse_center-y',\n",
    "     'object_bounding_ellipse_major_axis',\n",
    "     'object_bounding_ellipse_minor_axis',\n",
    "     'object_bounding_ellipse_angle',\n",
    "     'object_bounding_ellipse_eccentricity',\n",
    ")"
   ]
  },
  {
   "cell_type": "code",
   "execution_count": null,
   "metadata": {
    "collapsed": true
   },
   "outputs": [],
   "source": [
    "\n",
    "def get_shapedata_dict(shape_data):\n",
    "    if len(shape_data) == len(SHAPES_PROPERTIES):\n",
    "        shape_dict = {prop:shape_data[i] for i, prop in enumerate(SHAPES_PROPERTIES)}\n",
    "        return shape_dict\n",
    "    else:\n",
    "        print('length of shape data is not compatible')\n",
    "        \n",
    "def get_plant_data(img_file, hyper_parameters, options, debug=None, count=0):\n",
    "    img, path, filename = pcv.readimage(img_file)\n",
    "    device = 0\n",
    "    shape_data_dict = {}\n",
    "    if np.average(img) < 50:\n",
    "        #pcv.fatal_error(\"Night Image{}\".format(img_file))\n",
    "        return None\n",
    "    else:\n",
    "        pass\n",
    "    for pos in hyper_parameters['roi']:\n",
    "        #following variable needs to be given\n",
    "        #print(1)\n",
    "        device, b = pcv.rgb2gray_lab(img, 'b', device, debug)\n",
    "        #print(2)\n",
    "        device, b_cnt = pcv.binary_threshold(b, hyper_parameters['bin_threshold'], 255, 'light', device, debug)\n",
    "        #print(3)\n",
    "        device, masked = pcv.apply_mask(img, b_cnt, 'white', device, debug)\n",
    "        #print(4)\n",
    "        device, id_objects,obj_hierarchy = pcv.find_objects(masked, b_cnt, device, debug)\n",
    "        #print(5)\n",
    "        params = hyper_parameters['roi'][pos]\n",
    "        device, roi1, roi_hierarchy= pcv.define_roi(\n",
    "            masked, 'rectangle', device, None, 'default', \n",
    "            debug, True, params['x'], params['y'], params['width'], params['height'])\n",
    "        #print(6)\n",
    "        device,roi_objects, hierarchy3, kept_mask, obj_area = pcv.roi_objects(\n",
    "            img, 'partial', roi1, roi_hierarchy, \n",
    "            id_objects, obj_hierarchy, device, debug)\n",
    "        #print(6)\n",
    "        device, obj, mask = pcv.object_composition(\n",
    "            img, roi_objects, hierarchy3, device, debug)\n",
    "        #print(7)\n",
    "        filename = 'img_{}.jpg'.format(pos)\n",
    "        try:\n",
    "            device, shape_header, shape_data, shape_img = pcv.analyze_object(\n",
    "                img, 'hoge.jpg', obj, b_cnt, device, \n",
    "                debug, options['outdir'] + '/' + filename)\n",
    "            shape_data_dict[pos] = get_shapedata_dict(shape_data)\n",
    "            shape_data_dict[pos]['contour_area'] = cv2.contourArea(obj)\n",
    "            #print('area of {} is {}'.format(pos,  shape_data_dict[pos]['contour_area'] ))\n",
    "        except:\n",
    "            shape_data_dict[pos] = None\n",
    "    return shape_data_dict"
   ]
  },
  {
   "cell_type": "code",
   "execution_count": null,
   "metadata": {
    "collapsed": true
   },
   "outputs": [],
   "source": [
    "hyper_parameters = {\n",
    "    'bin_threshold':107,\n",
    "    'roi':{\n",
    "        'left':{\n",
    "            'x':200,\n",
    "            'y':300,\n",
    "            'width':-800,\n",
    "            'height':-150\n",
    "        },\n",
    "        'right':{\n",
    "            'x':800,\n",
    "            'y':300,\n",
    "            'width':-350,\n",
    "            'height':-150\n",
    "        },\n",
    "        'top':{\n",
    "            'x':550,\n",
    "            'y':0,\n",
    "            'width':-600,\n",
    "            'height':-600\n",
    "        }\n",
    "    }\n",
    "}\n",
    "IMG_DATABASE_PATH = '/home/iizuka/ImageDatabase/aerial_image'\n",
    "img_file = IMG_DATABASE_PATH + '/' +'1511486318.jpg'\n",
    "out_dir = '/home/iizuka/workspace/py2/generated_imgs/plantcv'\n",
    "options = {'outdir':out_dir}\n",
    "#result = get_plant_data(img_file, hyper_parameters, options, debug='plot')"
   ]
  },
  {
   "cell_type": "code",
   "execution_count": null,
   "metadata": {
    "collapsed": true
   },
   "outputs": [],
   "source": [
    "start_filename = '1511388442.jpg'\n",
    "end_filename = '1511585654.jpg'\n",
    "start_index = 1511388442\n",
    "end_index = 1511585654\n",
    "\n",
    "image_files = [f for f in os.listdir(IMG_DATABASE_PATH) if os.path.isfile(os.path.join(IMG_DATABASE_PATH, f))]\n",
    "# plants are not overlayes with each other, which is validated by visual observation \n",
    "valid_files = [ filename for filename in image_files if start_index < int(filename.split('.')[0]) < end_index]\n"
   ]
  },
  {
   "cell_type": "code",
   "execution_count": null,
   "metadata": {
    "collapsed": true,
    "scrolled": true
   },
   "outputs": [],
   "source": [
    "out_dir = '/home/iizuka/workspace/py2/generated_imgs/plantcv'\n",
    "options = {'outdir':out_dir}\n",
    "result_dict = {}\n",
    "night_images = []\n",
    "failed_images = []\n",
    "for filename in valid_files:\n",
    "    print(filename)\n",
    "    img_file = IMG_DATABASE_PATH + '/' + filename\n",
    "    result = get_plant_data(img_file, hyper_parameters, options)\n",
    "    if result is None:\n",
    "        night_images.append(filename)\n",
    "    else:\n",
    "        result_dict[filename.split('.')[0]]  = result"
   ]
  },
  {
   "cell_type": "code",
   "execution_count": null,
   "metadata": {
    "collapsed": true
   },
   "outputs": [],
   "source": [
    "len(night_images)"
   ]
  },
  {
   "cell_type": "code",
   "execution_count": null,
   "metadata": {
    "collapsed": true
   },
   "outputs": [],
   "source": [
    "import pandas as pd\n",
    "import numpy as np\n",
    "import matplotlib.pyplot as plt\n",
    "plt.style.use('dark_background')\n",
    "result_dict['1511582036']"
   ]
  },
  {
   "cell_type": "code",
   "execution_count": null,
   "metadata": {
    "collapsed": true
   },
   "outputs": [],
   "source": [
    "import pickle\n",
    "obj_file_path = 'obj_files/result_doc.dat'\n",
    "filehandler = open(obj_file_path, 'w')\n",
    "data = pickle.dump(result_dict, filehandler)"
   ]
  },
  {
   "cell_type": "code",
   "execution_count": null,
   "metadata": {
    "collapsed": true
   },
   "outputs": [],
   "source": [
    "import pickle\n",
    "obj_file_path = 'obj_files/result_doc.dat'\n",
    "openfilehandler = file(obj_file_path,'r')\n",
    "data_read = pickle.load(openfilehandler)\n",
    "data_read"
   ]
  },
  {
   "cell_type": "code",
   "execution_count": null,
   "metadata": {
    "collapsed": true
   },
   "outputs": [],
   "source": [
    "result_dict"
   ]
  },
  {
   "cell_type": "code",
   "execution_count": 1,
   "metadata": {},
   "outputs": [
    {
     "name": "stdout",
     "output_type": "stream",
     "text": [
      "top\n",
      "left\n",
      "error occurs in left 1511509388\n",
      "right\n",
      "error occurs in right 1511509388\n"
     ]
    },
    {
     "data": {
      "text/html": [
       "<div>\n",
       "<style>\n",
       "    .dataframe thead tr:only-child th {\n",
       "        text-align: right;\n",
       "    }\n",
       "\n",
       "    .dataframe thead th {\n",
       "        text-align: left;\n",
       "    }\n",
       "\n",
       "    .dataframe tbody tr th {\n",
       "        vertical-align: top;\n",
       "    }\n",
       "</style>\n",
       "<table border=\"1\" class=\"dataframe\">\n",
       "  <thead>\n",
       "    <tr style=\"text-align: right;\">\n",
       "      <th></th>\n",
       "      <th>left</th>\n",
       "      <th>right</th>\n",
       "      <th>top</th>\n",
       "    </tr>\n",
       "  </thead>\n",
       "  <tbody>\n",
       "    <tr>\n",
       "      <th>2017-11-22 23:07:35</th>\n",
       "      <td>49612.5</td>\n",
       "      <td>50260.5</td>\n",
       "      <td>63835.0</td>\n",
       "    </tr>\n",
       "    <tr>\n",
       "      <th>2017-11-23 00:07:48</th>\n",
       "      <td>49767.0</td>\n",
       "      <td>50917.5</td>\n",
       "      <td>64781.5</td>\n",
       "    </tr>\n",
       "    <tr>\n",
       "      <th>2017-11-23 01:08:01</th>\n",
       "      <td>49392.5</td>\n",
       "      <td>51738.5</td>\n",
       "      <td>65375.0</td>\n",
       "    </tr>\n",
       "    <tr>\n",
       "      <th>2017-11-23 02:08:13</th>\n",
       "      <td>49579.0</td>\n",
       "      <td>52650.5</td>\n",
       "      <td>66717.5</td>\n",
       "    </tr>\n",
       "    <tr>\n",
       "      <th>2017-11-23 03:08:25</th>\n",
       "      <td>49776.0</td>\n",
       "      <td>53315.0</td>\n",
       "      <td>67239.5</td>\n",
       "    </tr>\n",
       "  </tbody>\n",
       "</table>\n",
       "</div>"
      ],
      "text/plain": [
       "                        left    right      top\n",
       "2017-11-22 23:07:35  49612.5  50260.5  63835.0\n",
       "2017-11-23 00:07:48  49767.0  50917.5  64781.5\n",
       "2017-11-23 01:08:01  49392.5  51738.5  65375.0\n",
       "2017-11-23 02:08:13  49579.0  52650.5  66717.5\n",
       "2017-11-23 03:08:25  49776.0  53315.0  67239.5"
      ]
     },
     "execution_count": 1,
     "metadata": {},
     "output_type": "execute_result"
    }
   ],
   "source": [
    "import pandas as pd\n",
    "import pickle\n",
    "\n",
    "obj_file_path = 'obj_files/result_doc.dat'\n",
    "openfilehandler = file(obj_file_path,'r')\n",
    "data_read = pickle.load(openfilehandler)\n",
    "data_read\n",
    "\n",
    "result_dict = data_read\n",
    "pos_list = ('top', 'left', 'right')\n",
    "pos_dict = {}\n",
    "MAX_THREHSOLD = 200000.0\n",
    "for pos in pos_list:\n",
    "    print(pos)\n",
    "    pos_dict[pos] = {}\n",
    "    contour_area = 'contour_area'\n",
    "    for time_stamp in result_dict:\n",
    "        if result_dict[time_stamp] is not None:\n",
    "            if pos in result_dict[time_stamp]:\n",
    "                try:\n",
    "                    value = result_dict[time_stamp][pos][contour_area]\n",
    "                    if value < MAX_THREHSOLD:\n",
    "                        pos_dict[pos][pd.to_datetime(int(time_stamp), unit='s')] = value\n",
    "                except:\n",
    "                    print('error occurs in {} {}'.format(pos, time_stamp))\n",
    "        else:\n",
    "            print('none',time_stamp)\n",
    "            \n",
    "df_dict = {pos: pd.Series(pos_dict[pos]) for pos in pos_dict}\n",
    "df = pd.DataFrame(df_dict)\n",
    "#df.columns = ['date', 'LAI']\n",
    "df.head()"
   ]
  },
  {
   "cell_type": "code",
   "execution_count": 4,
   "metadata": {
    "scrolled": true
   },
   "outputs": [
    {
     "data": {
      "image/png": "[encoded data removed]",
      "text/plain": [
       "<matplotlib.figure.Figure at 0x7f22cd827f10>"
      ]
     },
     "metadata": {},
     "output_type": "display_data"
    }
   ],
   "source": [
    "lai_graph = df.plot(style=['.','.','.'])\n",
    "lai_graph.set_xlabel('Date Time')\n",
    "lai_graph.set_ylabel('LAI (pixel)')\n",
    "plt.show()\n",
    "fig = lai_graph.get_figure()\n",
    "fig.savefig('plots/lai_graph.png')"
   ]
  }
 ],
 "metadata": {
  "kernelspec": {
   "display_name": "Python 2",
   "language": "python",
   "name": "python2"
  },
  "language_info": {
   "codemirror_mode": {
    "name": "ipython",
    "version": 2
   },
   "file_extension": ".py",
   "mimetype": "text/x-python",
   "name": "python",
   "nbconvert_exporter": "python",
   "pygments_lexer": "ipython2",
   "version": "2.7.14"
  }
 },
 "nbformat": 4,
 "nbformat_minor": 2
}
