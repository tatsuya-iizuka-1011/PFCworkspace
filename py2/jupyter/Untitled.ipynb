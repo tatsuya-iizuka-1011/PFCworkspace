{
 "cells": [
  {
   "cell_type": "code",
   "execution_count": null,
   "metadata": {
    "collapsed": true
   },
   "outputs": [],
   "source": [
    "MODULE_PATH = '/home/iizuka/workspace/py2/lib'\n",
    "PLANTCV_PATH = '/home/iizuka/workspace/py2/lib/plantcv'\n",
    "sys.path.append(MODULE_PATH)\n",
    "sys.path.append(PLANTCV_PATH)\n",
    "import plantcv as pcv\n",
    "\n",
    "from lib."
   ]
  }
 ],
 "metadata": {
  "kernelspec": {
   "display_name": "Python 2",
   "language": "python",
   "name": "python2"
  },
  "language_info": {
   "codemirror_mode": {
    "name": "ipython",
    "version": 2
   },
   "file_extension": ".py",
   "mimetype": "text/x-python",
   "name": "python",
   "nbconvert_exporter": "python",
   "pygments_lexer": "ipython2",
   "version": "2.7.14"
  }
 },
 "nbformat": 4,
 "nbformat_minor": 2
}
